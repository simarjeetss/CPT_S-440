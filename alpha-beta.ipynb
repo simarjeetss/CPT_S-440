{
 "cells": [
  {
   "metadata": {
    "ExecuteTime": {
     "end_time": "2025-02-25T22:37:25.813508Z",
     "start_time": "2025-02-25T22:37:25.810503Z"
    }
   },
   "cell_type": "code",
   "source": "import chess",
   "id": "5741bf584dbccddc",
   "outputs": [],
   "execution_count": 19
  },
  {
   "cell_type": "code",
   "id": "initial_id",
   "metadata": {
    "collapsed": true,
    "ExecuteTime": {
     "end_time": "2025-02-25T22:37:26.173025Z",
     "start_time": "2025-02-25T22:37:26.169023Z"
    }
   },
   "source": [
    "board = chess.Board()\n",
    "print(board.unicode())"
   ],
   "outputs": [
    {
     "name": "stdout",
     "output_type": "stream",
     "text": [
      "♜ ♞ ♝ ♛ ♚ ♝ ♞ ♜\n",
      "♟ ♟ ♟ ♟ ♟ ♟ ♟ ♟\n",
      "⭘ ⭘ ⭘ ⭘ ⭘ ⭘ ⭘ ⭘\n",
      "⭘ ⭘ ⭘ ⭘ ⭘ ⭘ ⭘ ⭘\n",
      "⭘ ⭘ ⭘ ⭘ ⭘ ⭘ ⭘ ⭘\n",
      "⭘ ⭘ ⭘ ⭘ ⭘ ⭘ ⭘ ⭘\n",
      "♙ ♙ ♙ ♙ ♙ ♙ ♙ ♙\n",
      "♖ ♘ ♗ ♕ ♔ ♗ ♘ ♖\n"
     ]
    }
   ],
   "execution_count": 20
  },
  {
   "metadata": {
    "ExecuteTime": {
     "end_time": "2025-02-25T22:37:26.737925Z",
     "start_time": "2025-02-25T22:37:26.734953Z"
    }
   },
   "cell_type": "code",
   "source": "print(board)",
   "id": "66abb745ad0defa4",
   "outputs": [
    {
     "name": "stdout",
     "output_type": "stream",
     "text": [
      "r n b q k b n r\n",
      "p p p p p p p p\n",
      ". . . . . . . .\n",
      ". . . . . . . .\n",
      ". . . . . . . .\n",
      ". . . . . . . .\n",
      "P P P P P P P P\n",
      "R N B Q K B N R\n"
     ]
    }
   ],
   "execution_count": 21
  },
  {
   "metadata": {
    "ExecuteTime": {
     "end_time": "2025-02-25T22:37:27.213249Z",
     "start_time": "2025-02-25T22:37:27.209710Z"
    }
   },
   "cell_type": "code",
   "source": [
    "print(\"White to move:\", board.turn) #True = white moves, False = black moves\n",
    "print(\"#moves:\", board.fullmove_number) # Number of moves\n",
    "print(\"Move log:\", board.move_stack) # Moves log"
   ],
   "id": "96bceaef78fed3a7",
   "outputs": [
    {
     "name": "stdout",
     "output_type": "stream",
     "text": [
      "White to move: True\n",
      "#moves: 1\n",
      "Move log: []\n"
     ]
    }
   ],
   "execution_count": 22
  },
  {
   "metadata": {
    "ExecuteTime": {
     "end_time": "2025-02-25T22:37:27.682380Z",
     "start_time": "2025-02-25T22:37:27.676501Z"
    }
   },
   "cell_type": "code",
   "source": "board.legal_moves",
   "id": "c1055a23d95c00b",
   "outputs": [
    {
     "data": {
      "text/plain": [
       "<LegalMoveGenerator at 0x1060c4520 (Nh3, Nf3, Nc3, Na3, h3, g3, f3, e3, d3, c3, b3, a3, h4, g4, f4, e4, d4, c4, b4, a4)>"
      ]
     },
     "execution_count": 23,
     "metadata": {},
     "output_type": "execute_result"
    }
   ],
   "execution_count": 23
  },
  {
   "metadata": {
    "ExecuteTime": {
     "end_time": "2025-02-25T22:37:28.107310Z",
     "start_time": "2025-02-25T22:37:28.102792Z"
    }
   },
   "cell_type": "code",
   "source": [
    "import random\n",
    "\n",
    "random_move = random.choice(list(board.legal_moves))\n",
    "random_move"
   ],
   "id": "1a31f2e2be2e2596",
   "outputs": [
    {
     "data": {
      "text/plain": [
       "Move.from_uci('a2a3')"
      ]
     },
     "execution_count": 24,
     "metadata": {},
     "output_type": "execute_result"
    }
   ],
   "execution_count": 24
  },
  {
   "metadata": {
    "ExecuteTime": {
     "end_time": "2025-02-25T22:37:28.508063Z",
     "start_time": "2025-02-25T22:37:28.504203Z"
    }
   },
   "cell_type": "code",
   "source": [
    "board.push(random_move)\n",
    "print(board.unicode())"
   ],
   "id": "7545d7431894f154",
   "outputs": [
    {
     "name": "stdout",
     "output_type": "stream",
     "text": [
      "♜ ♞ ♝ ♛ ♚ ♝ ♞ ♜\n",
      "♟ ♟ ♟ ♟ ♟ ♟ ♟ ♟\n",
      "⭘ ⭘ ⭘ ⭘ ⭘ ⭘ ⭘ ⭘\n",
      "⭘ ⭘ ⭘ ⭘ ⭘ ⭘ ⭘ ⭘\n",
      "⭘ ⭘ ⭘ ⭘ ⭘ ⭘ ⭘ ⭘\n",
      "♙ ⭘ ⭘ ⭘ ⭘ ⭘ ⭘ ⭘\n",
      "⭘ ♙ ♙ ♙ ♙ ♙ ♙ ♙\n",
      "♖ ♘ ♗ ♕ ♔ ♗ ♘ ♖\n"
     ]
    }
   ],
   "execution_count": 25
  },
  {
   "metadata": {
    "ExecuteTime": {
     "end_time": "2025-02-25T22:37:29.364978Z",
     "start_time": "2025-02-25T22:37:29.359032Z"
    }
   },
   "cell_type": "code",
   "source": [
    "print(board.turn)\n",
    "print(board.halfmove_clock)\n",
    "print(board.fullmove_number)\n",
    "print(board.move_stack)"
   ],
   "id": "399569ddf6692f67",
   "outputs": [
    {
     "name": "stdout",
     "output_type": "stream",
     "text": [
      "False\n",
      "0\n",
      "1\n",
      "[Move.from_uci('a2a3')]\n"
     ]
    }
   ],
   "execution_count": 26
  },
  {
   "metadata": {
    "ExecuteTime": {
     "end_time": "2025-02-25T22:37:29.818941Z",
     "start_time": "2025-02-25T22:37:29.815710Z"
    }
   },
   "cell_type": "code",
   "source": [
    "board.pop()\n",
    "print(board.unicode())"
   ],
   "id": "9201d9d400cba7fc",
   "outputs": [
    {
     "name": "stdout",
     "output_type": "stream",
     "text": [
      "♜ ♞ ♝ ♛ ♚ ♝ ♞ ♜\n",
      "♟ ♟ ♟ ♟ ♟ ♟ ♟ ♟\n",
      "⭘ ⭘ ⭘ ⭘ ⭘ ⭘ ⭘ ⭘\n",
      "⭘ ⭘ ⭘ ⭘ ⭘ ⭘ ⭘ ⭘\n",
      "⭘ ⭘ ⭘ ⭘ ⭘ ⭘ ⭘ ⭘\n",
      "⭘ ⭘ ⭘ ⭘ ⭘ ⭘ ⭘ ⭘\n",
      "♙ ♙ ♙ ♙ ♙ ♙ ♙ ♙\n",
      "♖ ♘ ♗ ♕ ♔ ♗ ♘ ♖\n"
     ]
    }
   ],
   "execution_count": 27
  },
  {
   "metadata": {},
   "cell_type": "code",
   "outputs": [],
   "execution_count": null,
   "source": "",
   "id": "add3c37e7abe458c"
  }
 ],
 "metadata": {
  "kernelspec": {
   "display_name": "Python 3",
   "language": "python",
   "name": "python3"
  },
  "language_info": {
   "codemirror_mode": {
    "name": "ipython",
    "version": 2
   },
   "file_extension": ".py",
   "mimetype": "text/x-python",
   "name": "python",
   "nbconvert_exporter": "python",
   "pygments_lexer": "ipython2",
   "version": "2.7.6"
  }
 },
 "nbformat": 4,
 "nbformat_minor": 5
}
